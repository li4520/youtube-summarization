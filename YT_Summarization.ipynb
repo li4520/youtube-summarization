{
  "nbformat": 4,
  "nbformat_minor": 0,
  "metadata": {
    "colab": {
      "provenance": [],
      "authorship_tag": "ABX9TyM2QlN+syXGlQ5tsa1AcjIz",
      "include_colab_link": true
    },
    "kernelspec": {
      "name": "python3",
      "display_name": "Python 3"
    },
    "language_info": {
      "name": "python"
    }
  },
  "cells": [
    {
      "cell_type": "markdown",
      "metadata": {
        "id": "view-in-github",
        "colab_type": "text"
      },
      "source": [
        "<a href=\"https://colab.research.google.com/github/li4520/youtube-summarization/blob/main/YT_Summarization.ipynb\" target=\"_parent\"><img src=\"https://colab.research.google.com/assets/colab-badge.svg\" alt=\"Open In Colab\"/></a>"
      ]
    },
    {
      "cell_type": "code",
      "execution_count": null,
      "metadata": {
        "colab": {
          "base_uri": "https://localhost:8080/"
        },
        "id": "8NTMC7-D6HQv",
        "outputId": "6ac81b61-827d-49e9-d72c-e94e726c93ea"
      },
      "outputs": [
        {
          "output_type": "stream",
          "name": "stdout",
          "text": [
            "Looking in indexes: https://pypi.org/simple, https://us-python.pkg.dev/colab-wheels/public/simple/\n",
            "Collecting transformers\n",
            "  Downloading transformers-4.26.0-py3-none-any.whl (6.3 MB)\n",
            "\u001b[2K     \u001b[90m━━━━━━━━━━━━━━━━━━━━━━━━━━━━━━━━━━━━━━━━\u001b[0m \u001b[32m6.3/6.3 MB\u001b[0m \u001b[31m46.3 MB/s\u001b[0m eta \u001b[36m0:00:00\u001b[0m\n",
            "\u001b[?25hCollecting youtube-transcript-api\n",
            "  Downloading youtube_transcript_api-0.5.0-py3-none-any.whl (23 kB)\n",
            "Collecting sentencepiece\n",
            "  Downloading sentencepiece-0.1.97-cp38-cp38-manylinux_2_17_x86_64.manylinux2014_x86_64.whl (1.3 MB)\n",
            "\u001b[2K     \u001b[90m━━━━━━━━━━━━━━━━━━━━━━━━━━━━━━━━━━━━━━━━\u001b[0m \u001b[32m1.3/1.3 MB\u001b[0m \u001b[31m32.6 MB/s\u001b[0m eta \u001b[36m0:00:00\u001b[0m\n",
            "\u001b[?25hRequirement already satisfied: packaging>=20.0 in /usr/local/lib/python3.8/dist-packages (from transformers) (23.0)\n",
            "Requirement already satisfied: tqdm>=4.27 in /usr/local/lib/python3.8/dist-packages (from transformers) (4.64.1)\n",
            "Collecting tokenizers!=0.11.3,<0.14,>=0.11.1\n",
            "  Downloading tokenizers-0.13.2-cp38-cp38-manylinux_2_17_x86_64.manylinux2014_x86_64.whl (7.6 MB)\n",
            "\u001b[2K     \u001b[90m━━━━━━━━━━━━━━━━━━━━━━━━━━━━━━━━━━━━━━━━\u001b[0m \u001b[32m7.6/7.6 MB\u001b[0m \u001b[31m26.2 MB/s\u001b[0m eta \u001b[36m0:00:00\u001b[0m\n",
            "\u001b[?25hRequirement already satisfied: filelock in /usr/local/lib/python3.8/dist-packages (from transformers) (3.9.0)\n",
            "Requirement already satisfied: requests in /usr/local/lib/python3.8/dist-packages (from transformers) (2.25.1)\n",
            "Collecting huggingface-hub<1.0,>=0.11.0\n",
            "  Downloading huggingface_hub-0.12.0-py3-none-any.whl (190 kB)\n",
            "\u001b[2K     \u001b[90m━━━━━━━━━━━━━━━━━━━━━━━━━━━━━━━━━━━━━━\u001b[0m \u001b[32m190.3/190.3 KB\u001b[0m \u001b[31m10.7 MB/s\u001b[0m eta \u001b[36m0:00:00\u001b[0m\n",
            "\u001b[?25hRequirement already satisfied: numpy>=1.17 in /usr/local/lib/python3.8/dist-packages (from transformers) (1.21.6)\n",
            "Requirement already satisfied: pyyaml>=5.1 in /usr/local/lib/python3.8/dist-packages (from transformers) (6.0)\n",
            "Requirement already satisfied: regex!=2019.12.17 in /usr/local/lib/python3.8/dist-packages (from transformers) (2022.6.2)\n",
            "Requirement already satisfied: typing-extensions>=3.7.4.3 in /usr/local/lib/python3.8/dist-packages (from huggingface-hub<1.0,>=0.11.0->transformers) (4.4.0)\n",
            "Requirement already satisfied: idna<3,>=2.5 in /usr/local/lib/python3.8/dist-packages (from requests->transformers) (2.10)\n",
            "Requirement already satisfied: urllib3<1.27,>=1.21.1 in /usr/local/lib/python3.8/dist-packages (from requests->transformers) (1.24.3)\n",
            "Requirement already satisfied: certifi>=2017.4.17 in /usr/local/lib/python3.8/dist-packages (from requests->transformers) (2022.12.7)\n",
            "Requirement already satisfied: chardet<5,>=3.0.2 in /usr/local/lib/python3.8/dist-packages (from requests->transformers) (4.0.0)\n",
            "Installing collected packages: tokenizers, sentencepiece, youtube-transcript-api, huggingface-hub, transformers\n",
            "Successfully installed huggingface-hub-0.12.0 sentencepiece-0.1.97 tokenizers-0.13.2 transformers-4.26.0 youtube-transcript-api-0.5.0\n"
          ]
        }
      ],
      "source": [
        "!pip install transformers youtube-transcript-api sentencepiece\n"
      ]
    },
    {
      "cell_type": "code",
      "source": [
        "from youtube_transcript_api import YouTubeTranscriptApi as YTapi\n",
        "from transformers import AutoTokenizer, AutoModelForSeq2SeqLM"
      ],
      "metadata": {
        "id": "d7N0qCkj9MUm"
      },
      "execution_count": null,
      "outputs": []
    },
    {
      "cell_type": "markdown",
      "source": [],
      "metadata": {
        "id": "lCw1HGCPD74K"
      }
    },
    {
      "cell_type": "code",
      "source": [
        "youtube_link = \"https://www.youtube.com/watch?v=DNjlqqkvm_s\""
      ],
      "metadata": {
        "id": "VLOfydB39Wep"
      },
      "execution_count": null,
      "outputs": []
    },
    {
      "cell_type": "code",
      "source": [
        "def videoID(link):\n",
        "    video_id = link.split(\"=\")[1]\n",
        "    return video_id"
      ],
      "metadata": {
        "id": "MCvHhv37__tV"
      },
      "execution_count": null,
      "outputs": []
    },
    {
      "cell_type": "code",
      "source": [
        "id = videoID(youtube_link)"
      ],
      "metadata": {
        "id": "XwJwWDJAABYN"
      },
      "execution_count": null,
      "outputs": []
    },
    {
      "cell_type": "code",
      "source": [
        "id"
      ],
      "metadata": {
        "colab": {
          "base_uri": "https://localhost:8080/",
          "height": 35
        },
        "id": "M64MKUSaADA9",
        "outputId": "b2721c9b-5bfe-41a5-98ec-2a978ad27044"
      },
      "execution_count": null,
      "outputs": [
        {
          "output_type": "execute_result",
          "data": {
            "text/plain": [
              "'DNjlqqkvm_s'"
            ],
            "application/vnd.google.colaboratory.intrinsic+json": {
              "type": "string"
            }
          },
          "metadata": {},
          "execution_count": 6
        }
      ]
    },
    {
      "cell_type": "code",
      "source": [
        "def GetTranscript(video_id):\n",
        "    try:\n",
        "        transcript = YTapi.get_transcript(video_id)\n",
        "        FinalTranscript = ' '.join([i['text'] for i in transcript])\n",
        "    except Exception as e:\n",
        "        print(e)\n",
        "        \n",
        "    return FinalTranscript"
      ],
      "metadata": {
        "id": "sjIybjgBAHGE"
      },
      "execution_count": null,
      "outputs": []
    },
    {
      "cell_type": "code",
      "source": [
        "transcript_en = GetTranscript(id)"
      ],
      "metadata": {
        "id": "f583p4YtAJOn"
      },
      "execution_count": null,
      "outputs": []
    },
    {
      "cell_type": "code",
      "source": [
        "transcript_en"
      ],
      "metadata": {
        "colab": {
          "base_uri": "https://localhost:8080/",
          "height": 125
        },
        "id": "D3KYM265A401",
        "outputId": "d478de76-43b4-4e87-c1a6-937cfbcd9cd5"
      },
      "execution_count": null,
      "outputs": [
        {
          "output_type": "execute_result",
          "data": {
            "text/plain": [
              "\"Netflix password sharing.\\nWhy are you freaking out about it? Okay, let's get to the facts, because\\nlast year Netflix told us more than 100 million households currently use\\nmemberships and Netflix don't pay for it.\\nAnd they wanted to crack down on this post about sharing.\\nProbably coming into effect at the end of the first quarter.\\nThat means by March. Now, why are we all freaking out right\\nhere right now? Well, they've already been trialing ways\\nto curtail possible sharing over in Latin America in three key countries, in\\nfact, Peru, Chile, Costa Rica. And they put out a helpful article to\\ntell users in those countries about some of the changes.\\nThey published it in every single region.\\nSo that's why we're all worrying about it.\\nSo we're always seeing being trialled in those three countries.\\nWell, the users are being asked to set a primary location for where they use\\nNetflix on the devices. And then Netflix will track a mixture of\\nIP addresses or device I.D. account activity to see if anyone\\noutside the household is using that password.\\nAnd you can be incentivized to add members to your own household if you\\nwant them to be using it. You got to pay up now right here in the\\nUS. Take a deep breath.\\nNothing is exactly happening at this moment.\\nBut what's clear is Netflix is going to have to use all of its storytelling\\nskills to get you and I on board with these changes.\\nOh, and the furor, the outrage that was across Instagram, that was across\\nTwitter as people got this the wrong way round, thought it was being enacted in\\nthe US immediately. And what was so ironic, I suppose, is\\nactually Netflix had some strong news coming out already.\\nSay they wanted to talk about Netflix, spatial audio, a better amount of more\\ndevices if you have the premium Netflix subscription and instead it got drowned\\nout by this. We thought this would be ads, this story\\nfor Netflix, right? AD supported terror by 2023 is about\\nPaul Sweeney Shery Ahn Greg Peters before he was promoted to co CEO.\\nThat was his project. He was out there trying to crack this\\nproblem. Whether he does it or no.\\nI mean, this was a really fascinating reaction.\\nIt really was. And I think now we're going to have to\\nhear from Netflix about how this might be enacted, the trials that were going\\non and what it's actually going to mean for you and me eventually in the U.S..\\nI mean, back in 2017, that was saying it was all about Paul Sweeney sharing.\\nNow, it's very different matter when it comes to numbers.\""
            ],
            "application/vnd.google.colaboratory.intrinsic+json": {
              "type": "string"
            }
          },
          "metadata": {},
          "execution_count": 9
        }
      ]
    },
    {
      "cell_type": "code",
      "source": [
        "transcript_list  = YTapi.list_transcripts(id)\n",
        "\n",
        "for transcript in transcript_list:\n",
        "    ln = transcript.language\n",
        "    check = transcript.is_translatable    \n",
        "    print(ln, check)"
      ],
      "metadata": {
        "colab": {
          "base_uri": "https://localhost:8080/"
        },
        "id": "nsq2CwwiA6Be",
        "outputId": "4d9c3b24-f078-41b0-810f-28f932b7cf98"
      },
      "execution_count": null,
      "outputs": [
        {
          "output_type": "stream",
          "name": "stdout",
          "text": [
            "English True\n",
            "English (auto-generated) True\n"
          ]
        }
      ]
    },
    {
      "cell_type": "code",
      "source": [
        "for transcript in transcript_list:\n",
        "    available_ln = transcript.translation_languages\n",
        "print(available_ln)"
      ],
      "metadata": {
        "colab": {
          "base_uri": "https://localhost:8080/"
        },
        "id": "j9VUS72ZF5IC",
        "outputId": "0f32d905-d8ce-4f0e-8256-a2781545c003"
      },
      "execution_count": null,
      "outputs": [
        {
          "output_type": "stream",
          "name": "stdout",
          "text": [
            "[{'language': 'Afrikaans', 'language_code': 'af'}, {'language': 'Akan', 'language_code': 'ak'}, {'language': 'Albanian', 'language_code': 'sq'}, {'language': 'Amharic', 'language_code': 'am'}, {'language': 'Arabic', 'language_code': 'ar'}, {'language': 'Armenian', 'language_code': 'hy'}, {'language': 'Assamese', 'language_code': 'as'}, {'language': 'Aymara', 'language_code': 'ay'}, {'language': 'Azerbaijani', 'language_code': 'az'}, {'language': 'Bangla', 'language_code': 'bn'}, {'language': 'Basque', 'language_code': 'eu'}, {'language': 'Belarusian', 'language_code': 'be'}, {'language': 'Bhojpuri', 'language_code': 'bho'}, {'language': 'Bosnian', 'language_code': 'bs'}, {'language': 'Bulgarian', 'language_code': 'bg'}, {'language': 'Burmese', 'language_code': 'my'}, {'language': 'Catalan', 'language_code': 'ca'}, {'language': 'Cebuano', 'language_code': 'ceb'}, {'language': 'Chinese (Simplified)', 'language_code': 'zh-Hans'}, {'language': 'Chinese (Traditional)', 'language_code': 'zh-Hant'}, {'language': 'Corsican', 'language_code': 'co'}, {'language': 'Croatian', 'language_code': 'hr'}, {'language': 'Czech', 'language_code': 'cs'}, {'language': 'Danish', 'language_code': 'da'}, {'language': 'Divehi', 'language_code': 'dv'}, {'language': 'Dutch', 'language_code': 'nl'}, {'language': 'English', 'language_code': 'en'}, {'language': 'Esperanto', 'language_code': 'eo'}, {'language': 'Estonian', 'language_code': 'et'}, {'language': 'Ewe', 'language_code': 'ee'}, {'language': 'Filipino', 'language_code': 'fil'}, {'language': 'Finnish', 'language_code': 'fi'}, {'language': 'French', 'language_code': 'fr'}, {'language': 'Galician', 'language_code': 'gl'}, {'language': 'Ganda', 'language_code': 'lg'}, {'language': 'Georgian', 'language_code': 'ka'}, {'language': 'German', 'language_code': 'de'}, {'language': 'Greek', 'language_code': 'el'}, {'language': 'Guarani', 'language_code': 'gn'}, {'language': 'Gujarati', 'language_code': 'gu'}, {'language': 'Haitian Creole', 'language_code': 'ht'}, {'language': 'Hausa', 'language_code': 'ha'}, {'language': 'Hawaiian', 'language_code': 'haw'}, {'language': 'Hebrew', 'language_code': 'iw'}, {'language': 'Hindi', 'language_code': 'hi'}, {'language': 'Hmong', 'language_code': 'hmn'}, {'language': 'Hungarian', 'language_code': 'hu'}, {'language': 'Icelandic', 'language_code': 'is'}, {'language': 'Igbo', 'language_code': 'ig'}, {'language': 'Indonesian', 'language_code': 'id'}, {'language': 'Irish', 'language_code': 'ga'}, {'language': 'Italian', 'language_code': 'it'}, {'language': 'Japanese', 'language_code': 'ja'}, {'language': 'Javanese', 'language_code': 'jv'}, {'language': 'Kannada', 'language_code': 'kn'}, {'language': 'Kazakh', 'language_code': 'kk'}, {'language': 'Khmer', 'language_code': 'km'}, {'language': 'Kinyarwanda', 'language_code': 'rw'}, {'language': 'Korean', 'language_code': 'ko'}, {'language': 'Krio', 'language_code': 'kri'}, {'language': 'Kurdish', 'language_code': 'ku'}, {'language': 'Kyrgyz', 'language_code': 'ky'}, {'language': 'Lao', 'language_code': 'lo'}, {'language': 'Latin', 'language_code': 'la'}, {'language': 'Latvian', 'language_code': 'lv'}, {'language': 'Lingala', 'language_code': 'ln'}, {'language': 'Lithuanian', 'language_code': 'lt'}, {'language': 'Luxembourgish', 'language_code': 'lb'}, {'language': 'Macedonian', 'language_code': 'mk'}, {'language': 'Malagasy', 'language_code': 'mg'}, {'language': 'Malay', 'language_code': 'ms'}, {'language': 'Malayalam', 'language_code': 'ml'}, {'language': 'Maltese', 'language_code': 'mt'}, {'language': 'Māori', 'language_code': 'mi'}, {'language': 'Marathi', 'language_code': 'mr'}, {'language': 'Mongolian', 'language_code': 'mn'}, {'language': 'Nepali', 'language_code': 'ne'}, {'language': 'Northern Sotho', 'language_code': 'nso'}, {'language': 'Norwegian', 'language_code': 'no'}, {'language': 'Nyanja', 'language_code': 'ny'}, {'language': 'Odia', 'language_code': 'or'}, {'language': 'Oromo', 'language_code': 'om'}, {'language': 'Pashto', 'language_code': 'ps'}, {'language': 'Persian', 'language_code': 'fa'}, {'language': 'Polish', 'language_code': 'pl'}, {'language': 'Portuguese', 'language_code': 'pt'}, {'language': 'Punjabi', 'language_code': 'pa'}, {'language': 'Quechua', 'language_code': 'qu'}, {'language': 'Romanian', 'language_code': 'ro'}, {'language': 'Russian', 'language_code': 'ru'}, {'language': 'Samoan', 'language_code': 'sm'}, {'language': 'Sanskrit', 'language_code': 'sa'}, {'language': 'Scottish Gaelic', 'language_code': 'gd'}, {'language': 'Serbian', 'language_code': 'sr'}, {'language': 'Shona', 'language_code': 'sn'}, {'language': 'Sindhi', 'language_code': 'sd'}, {'language': 'Sinhala', 'language_code': 'si'}, {'language': 'Slovak', 'language_code': 'sk'}, {'language': 'Slovenian', 'language_code': 'sl'}, {'language': 'Somali', 'language_code': 'so'}, {'language': 'Southern Sotho', 'language_code': 'st'}, {'language': 'Spanish', 'language_code': 'es'}, {'language': 'Sundanese', 'language_code': 'su'}, {'language': 'Swahili', 'language_code': 'sw'}, {'language': 'Swedish', 'language_code': 'sv'}, {'language': 'Tajik', 'language_code': 'tg'}, {'language': 'Tamil', 'language_code': 'ta'}, {'language': 'Tatar', 'language_code': 'tt'}, {'language': 'Telugu', 'language_code': 'te'}, {'language': 'Thai', 'language_code': 'th'}, {'language': 'Tigrinya', 'language_code': 'ti'}, {'language': 'Tsonga', 'language_code': 'ts'}, {'language': 'Turkish', 'language_code': 'tr'}, {'language': 'Turkmen', 'language_code': 'tk'}, {'language': 'Ukrainian', 'language_code': 'uk'}, {'language': 'Unknown Language', 'language_code': 'und'}, {'language': 'Urdu', 'language_code': 'ur'}, {'language': 'Uyghur', 'language_code': 'ug'}, {'language': 'Uzbek', 'language_code': 'uz'}, {'language': 'Vietnamese', 'language_code': 'vi'}, {'language': 'Welsh', 'language_code': 'cy'}, {'language': 'Western Frisian', 'language_code': 'fy'}, {'language': 'Xhosa', 'language_code': 'xh'}, {'language': 'Yiddish', 'language_code': 'yi'}, {'language': 'Yoruba', 'language_code': 'yo'}, {'language': 'Zulu', 'language_code': 'zu'}]\n"
          ]
        }
      ]
    },
    {
      "cell_type": "code",
      "source": [
        "def summarize(tokenizer, model, text):\n",
        "    \n",
        "    \"\"\"\n",
        "    Function to summarize the text(transcript)\n",
        "    \"\"\"\n",
        "    inputs = tokenizer(text, \n",
        "                    max_length=1024, \n",
        "                    truncation=True,\n",
        "                    return_tensors=\"pt\")\n",
        "  \n",
        "    summary_ids = model.generate(inputs[\"input_ids\"])\n",
        "    summary = tokenizer.batch_decode(summary_ids, \n",
        "                                  skip_special_tokens=True, \n",
        "                                  clean_up_tokenization_spaces=False)\n",
        "    return summary"
      ],
      "metadata": {
        "id": "QACt1_xHHH9M"
      },
      "execution_count": null,
      "outputs": []
    },
    {
      "cell_type": "code",
      "source": [
        "summary1 = \"google/pegasus-large\"\n",
        "summary2 = \"sshleifer/distilbart-cnn-12-6\""
      ],
      "metadata": {
        "id": "VHnlByrvN04H"
      },
      "execution_count": null,
      "outputs": []
    },
    {
      "cell_type": "code",
      "source": [
        "tokenizer1 = AutoTokenizer.from_pretrained(summary1)\n",
        "model1 = AutoModelForSeq2SeqLM.from_pretrained(summary1)"
      ],
      "metadata": {
        "id": "gI_kTstkObYo"
      },
      "execution_count": null,
      "outputs": []
    },
    {
      "cell_type": "code",
      "source": [
        "tokenizer2 = AutoTokenizer.from_pretrained(summary2)\n",
        "model2 = AutoModelForSeq2SeqLM.from_pretrained(summary2)"
      ],
      "metadata": {
        "id": "lqHyT3uEOgn3"
      },
      "execution_count": null,
      "outputs": []
    },
    {
      "cell_type": "code",
      "source": [
        "pegasus = summarize(tokenizer1, model1, transcript_en)\n",
        "pegasus[0]\n"
      ],
      "metadata": {
        "colab": {
          "base_uri": "https://localhost:8080/",
          "height": 107
        },
        "id": "UW4v7QTCPffA",
        "outputId": "a3a3927f-9d3e-4011-b5e9-b712adb35b09"
      },
      "execution_count": null,
      "outputs": [
        {
          "output_type": "execute_result",
          "data": {
            "text/plain": [
              "\"Okay, let's get to the facts, because last year Netflix told us more than 100 million households currently use memberships and Netflix don't pay for it. Well, they've already been trialing ways to curtail possible sharing over in Latin America in three key countries, in fact, Peru, Chile, Costa Rica. Well, the users are being asked to set a primary location for where they use Netflix on the devices. Say they wanted to talk about Netflix, spatial audio, a better amount of more devices if you have the premium Netflix subscription and instead it got drowned out by this. And I think now we're going to have to hear from Netflix about how this might be enacted, the trials that were going on and what it's actually going to mean for you and me eventually in the U.S..\""
            ],
            "application/vnd.google.colaboratory.intrinsic+json": {
              "type": "string"
            }
          },
          "metadata": {},
          "execution_count": 25
        }
      ]
    },
    {
      "cell_type": "code",
      "source": [
        "bart = summarize(tokenizer2, model2, transcript_en)\n",
        "bart[0]\n"
      ],
      "metadata": {
        "colab": {
          "base_uri": "https://localhost:8080/",
          "height": 71
        },
        "id": "twet1YOBPyhZ",
        "outputId": "1c9f841c-6c9c-4136-e6b5-0f801f50bb91"
      },
      "execution_count": null,
      "outputs": [
        {
          "output_type": "execute_result",
          "data": {
            "text/plain": [
              "' Netflix has been trialing ways to curtail possible sharing over in Latin America in three key countries, Peru, Chile, Costa Rica . Users are being asked to set a primary location for where they use Netflix on the devices . Netflix will track a mixture of .IP addresses or device I.D. account activity to see if anyone outside the household is using that password .'"
            ],
            "application/vnd.google.colaboratory.intrinsic+json": {
              "type": "string"
            }
          },
          "metadata": {},
          "execution_count": 26
        }
      ]
    },
    {
      "cell_type": "code",
      "source": [],
      "metadata": {
        "id": "Gy1Gpq5FQk-7"
      },
      "execution_count": null,
      "outputs": []
    }
  ]
}